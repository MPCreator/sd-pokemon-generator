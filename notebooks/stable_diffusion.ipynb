{
 "cells": [
  {
   "cell_type": "markdown",
   "id": "1a721156",
   "metadata": {},
   "source": [
    "# Imports and parameters"
   ]
  },
  {
   "cell_type": "code",
   "execution_count": 1,
   "id": "32496b2e",
   "metadata": {},
   "outputs": [
    {
     "name": "stderr",
     "output_type": "stream",
     "text": [
      "/Users/robdewit/Documents/sd-pokemon-generator/.venv/lib/python3.11/site-packages/tqdm/auto.py:22: TqdmWarning: IProgress not found. Please update jupyter and ipywidgets. See https://ipywidgets.readthedocs.io/en/stable/user_install.html\n",
      "  from .autonotebook import tqdm as notebook_tqdm\n"
     ]
    }
   ],
   "source": [
    "import matplotlib.pyplot as plt\n",
    "import matplotlib.image as mpimg\n",
    "import os\n",
    "import pandas as pd\n",
    "import torch\n",
    "import shutil\n",
    "import sys\n",
    "import urllib.request\n",
    "\n",
    "from diffusers import DDIMScheduler, DiffusionPipeline, StableDiffusionPipeline, DPMSolverMultistepScheduler\n",
    "from pathlib import Path\n",
    "from PIL import Image\n",
    "from torchvision.utils import save_image\n",
    "from tqdm import tqdm\n",
    "from typing import Optional"
   ]
  },
  {
   "cell_type": "code",
   "execution_count": 2,
   "id": "39b1d7a0",
   "metadata": {},
   "outputs": [],
   "source": [
    "def find_project_root() -> Optional[Path]:\n",
    "    current = Path(\".\").resolve()\n",
    "    \n",
    "    while True:\n",
    "        if (current / \".git\").exists():\n",
    "            return current\n",
    "        \n",
    "        if current.parent == current:\n",
    "            print(\"WARNING: No .git dir found\")\n",
    "            return current\n",
    "              \n",
    "        current = current.parent\n",
    "        \n",
    "\n",
    "PROJECT_ROOT = find_project_root()"
   ]
  },
  {
   "cell_type": "markdown",
   "id": "976f927d",
   "metadata": {},
   "source": [
    "## Parameters"
   ]
  },
  {
   "cell_type": "code",
   "execution_count": 3,
   "id": "743d57d7",
   "metadata": {},
   "outputs": [],
   "source": [
    "# Model\n",
    "MODEL_DIRECTORY = 'models'\n",
    "BASE_MODEL = 'runwayml/stable-diffusion-v1-5'\n",
    "\n",
    "# Pokemon of interest\n",
    "TARGET_POKEMON_TYPE = 'all'\n",
    "\n",
    "# LoRA\n",
    "EXTERNAL_DATA_PATH = 'data/external'\n",
    "TRAIN_DATA_PATH = 'data/processed/pokemon'\n",
    "TARGET_POKEMON_TYPE = 'all'\n",
    "LORA_PATH = f'{MODEL_DIRECTORY}/pkmnlora'\n",
    "LEARNING_RATE = 1e-4\n",
    "MAX_TRAIN_STEPS = 500\n",
    "\n",
    "# Generation\n",
    "SEED = 9\n",
    "NUM_INFERENCE_STEPS = 25\n",
    "BATCH_SIZE = 5\n",
    "PROMPT = 'a (pkmnlora:1.5) (pokemon), drawn concept art, facing camera, (solid white background:1.2)'\n",
    "NEGATIVE_PROMPT = 'human, people, person, 3d, computer graphic, black and white, (painting by bad-artist:0.9), watermark, text, error, blurry, jpeg artifacts, cropped, worst quality, low quality, normal quality, jpeg artifacts, signature, watermark, username, artist name, (worst quality, low quality:1.4), bad anatomy'\n",
    "OUTPUT_DIRECTORY = 'outputs'"
   ]
  },
  {
   "cell_type": "markdown",
   "id": "73f475e3",
   "metadata": {},
   "source": [
    "# Clone diffusers repo, install requirements, run config"
   ]
  },
  {
   "cell_type": "code",
   "execution_count": null,
   "id": "d8d1aacb",
   "metadata": {},
   "outputs": [],
   "source": [
    "%%bash -s \"$PROJECT_ROOT\"\n",
    "\n",
    "export PROJECT_ROOT=$1\n",
    "\n",
    "# NEED TO RUN THESE ONCE\n",
    "git clone --depth 1 --branch v0.14.0 https://github.com/huggingface/diffusers.git $PROJECT_ROOT/diffusers\n",
    "pip3.10 install -r \"${PROJECT_ROOT}/diffusers/examples/dreambooth/requirements.txt\"\n",
    "accelerate config default"
   ]
  },
  {
   "cell_type": "markdown",
   "id": "5a3b5097",
   "metadata": {},
   "source": [
    "# Collect Pokémon images and dataset"
   ]
  },
  {
   "cell_type": "code",
   "execution_count": null,
   "id": "f3c2fe85",
   "metadata": {},
   "outputs": [],
   "source": [
    "# Create directory and clear if it already exists\n",
    "if not os.path.exists(PROJECT_ROOT / EXTERNAL_DATA_PATH / 'pokemon'):\n",
    "    os.mkdir(PROJECT_ROOT / EXTERNAL_DATA_PATH / 'pokemon')\n",
    "else:\n",
    "    shutil.rmtree(PROJECT_ROOT / EXTERNAL_DATA_PATH / 'pokemon')\n",
    "    os.mkdir(PROJECT_ROOT / EXTERNAL_DATA_PATH / 'pokemon')\n",
    "\n",
    "for i in tqdm(range(1, 1009)):\n",
    "    id = str(i)\n",
    "    while len(id) < 3:\n",
    "        id = \"0\" + id\n",
    "\n",
    "    imgURL = f\"https://assets.pokemon.com/assets/cms2/img/pokedex/full/{id}.png\"\n",
    "    urllib.request.urlretrieve(imgURL, f\"{PROJECT_ROOT}/{EXTERNAL_DATA_PATH}/pokemon/{id}.png\")"
   ]
  },
  {
   "cell_type": "code",
   "execution_count": null,
   "id": "f401b618",
   "metadata": {},
   "outputs": [],
   "source": [
    "# Download stats dataset with Kaggle API, make sure ~/.kaggle/kaggle.json exists\n",
    "# Or manually: https://www.kaggle.com/datasets/05bffa9809b39a7ddc851d80104b1fa314e4ef36700ce74a2c91d8b3c8113112?select=Pokedex_Cleaned.csv"
   ]
  },
  {
   "cell_type": "code",
   "execution_count": null,
   "id": "ee8799cd",
   "metadata": {},
   "outputs": [],
   "source": [
    "%%bash -s \"$PROJECT_ROOT\" \"$EXTERNAL_DATA_PATH\"\n",
    "\n",
    "export PROJECT_ROOT=$1\n",
    "export EXTERNAL_DATA_PATH=$2\n",
    "\n",
    "kaggle datasets download -d brdata/complete-pokemon-dataset-gen-iiv -f Pokedex_Cleaned.csv -p $PROJECT_ROOT/$EXTERNAL_DATA_PATH"
   ]
  },
  {
   "cell_type": "markdown",
   "id": "edb47d96",
   "metadata": {},
   "source": [
    "# Get subset of relevant Pokémon"
   ]
  },
  {
   "cell_type": "code",
   "execution_count": 4,
   "id": "a44bdda9",
   "metadata": {},
   "outputs": [
    {
     "data": {
      "text/html": [
       "<div>\n",
       "<style scoped>\n",
       "    .dataframe tbody tr th:only-of-type {\n",
       "        vertical-align: middle;\n",
       "    }\n",
       "\n",
       "    .dataframe tbody tr th {\n",
       "        vertical-align: top;\n",
       "    }\n",
       "\n",
       "    .dataframe thead th {\n",
       "        text-align: right;\n",
       "    }\n",
       "</style>\n",
       "<table border=\"1\" class=\"dataframe\">\n",
       "  <thead>\n",
       "    <tr style=\"text-align: right;\">\n",
       "      <th></th>\n",
       "      <th>#</th>\n",
       "      <th>Name</th>\n",
       "      <th>Primary Type</th>\n",
       "      <th>Secondary Type</th>\n",
       "    </tr>\n",
       "  </thead>\n",
       "  <tbody>\n",
       "    <tr>\n",
       "      <th>0</th>\n",
       "      <td>1</td>\n",
       "      <td>Bulbasaur</td>\n",
       "      <td>Grass</td>\n",
       "      <td>Poison</td>\n",
       "    </tr>\n",
       "    <tr>\n",
       "      <th>1</th>\n",
       "      <td>2</td>\n",
       "      <td>Ivysaur</td>\n",
       "      <td>Grass</td>\n",
       "      <td>Poison</td>\n",
       "    </tr>\n",
       "    <tr>\n",
       "      <th>2</th>\n",
       "      <td>3</td>\n",
       "      <td>Venusaur</td>\n",
       "      <td>Grass</td>\n",
       "      <td>Poison</td>\n",
       "    </tr>\n",
       "    <tr>\n",
       "      <th>3</th>\n",
       "      <td>3</td>\n",
       "      <td>Venusaur</td>\n",
       "      <td>Grass</td>\n",
       "      <td>Poison</td>\n",
       "    </tr>\n",
       "    <tr>\n",
       "      <th>4</th>\n",
       "      <td>4</td>\n",
       "      <td>Charmander</td>\n",
       "      <td>Fire</td>\n",
       "      <td>NaN</td>\n",
       "    </tr>\n",
       "  </tbody>\n",
       "</table>\n",
       "</div>"
      ],
      "text/plain": [
       "   #        Name Primary Type Secondary Type\n",
       "0  1   Bulbasaur        Grass         Poison\n",
       "1  2     Ivysaur        Grass         Poison\n",
       "2  3    Venusaur        Grass         Poison\n",
       "3  3    Venusaur        Grass         Poison\n",
       "4  4  Charmander         Fire            NaN"
      ]
     },
     "execution_count": 4,
     "metadata": {},
     "output_type": "execute_result"
    }
   ],
   "source": [
    "pokemon = pd.read_csv(PROJECT_ROOT / EXTERNAL_DATA_PATH / 'Pokedex_Cleaned.csv', encoding='latin-1', engine='python')\n",
    "pokemon = pokemon[[\"#\", \"Name\", \"Primary Type\", \"Secondary Type\"]]\n",
    "\n",
    "pokemon.head()\n",
    "\n",
    "if not TARGET_POKEMON_TYPE.lower() in ['all', 'none', '']:\n",
    "    subset_1 = pokemon.loc[pokemon['Primary Type'].lower() == TARGET_POKEMON_TYPE]\n",
    "    subset_2 = pokemon.loc[pokemon['Secondary Type'].lower() == TARGET_POKEMON_TYPE]\n",
    "    \n",
    "    subset = pd.concat([subset_1, subset_2]).sort_values('pokedex_number')\n",
    "else:\n",
    "    subset = pokemon\n",
    "    \n",
    "subset.head()"
   ]
  },
  {
   "cell_type": "markdown",
   "id": "7d2ffd73",
   "metadata": {},
   "source": [
    "# Resize training images to desired resolution"
   ]
  },
  {
   "cell_type": "code",
   "execution_count": 5,
   "id": "da154b37",
   "metadata": {},
   "outputs": [],
   "source": [
    "# Create directory and clear if it already exists\n",
    "if not os.path.exists(PROJECT_ROOT / TRAIN_DATA_PATH):\n",
    "    os.mkdir(PROJECT_ROOT / TRAIN_DATA_PATH)\n",
    "else:\n",
    "    shutil.rmtree(PROJECT_ROOT / TRAIN_DATA_PATH)\n",
    "    os.mkdir(PROJECT_ROOT / TRAIN_DATA_PATH)\n",
    "          \n",
    "# Resize training images and save to processed directory\n",
    "for image_name in os.listdir(PROJECT_ROOT/EXTERNAL_DATA_PATH/'pokemon'):\n",
    "    \n",
    "    # Only keep sprites of our defined subset (e.g. water type generation 1)\n",
    "    pokedex_number = int(image_name.split('.')[0])\n",
    "    \n",
    "    if pokedex_number in list(subset['#']):\n",
    "        pokemon_sprite = Image.open(PROJECT_ROOT/ EXTERNAL_DATA_PATH / 'pokemon' / image_name)\n",
    "        pokemon_sprite_resized = pokemon_sprite.resize((512, 512))\n",
    "\n",
    "        # Add leading zeroes\n",
    "        while len(image_name) < 8:\n",
    "            image_name = \"0\" + image_name\n",
    "\n",
    "        pokemon_sprite_resized.save(PROJECT_ROOT / TRAIN_DATA_PATH / image_name)\n"
   ]
  },
  {
   "cell_type": "markdown",
   "id": "3cc4d4ff",
   "metadata": {},
   "source": [
    "# Train LoRA"
   ]
  },
  {
   "cell_type": "code",
   "execution_count": null,
   "id": "2cb16dea",
   "metadata": {},
   "outputs": [],
   "source": [
    "%%bash -s \"$PROJECT_ROOT\" \"$BASE_MODEL\" \"$TRAIN_DATA_PATH\" \"$LORA_PATH\" \"$LEARNING_RATE\" \"$MAX_TRAIN_STEPS\"\n",
    "\n",
    "export PROJECT_ROOT=$1\n",
    "export BASE_MODEL=$2\n",
    "export TRAIN_DATA_PATH=$3\n",
    "export LORA_PATH=$4\n",
    "export LEARNING_RATE=$5\n",
    "export MAX_TRAIN_STEPS=$6\n",
    "\n",
    "# --mps needed for Mac M1+\n",
    "accelerate launch --mps \"${PROJECT_ROOT}/diffusers/examples/dreambooth/train_dreambooth_lora.py\" \\\n",
    "  --pretrained_model_name_or_path=$BASE_MODEL  \\\n",
    "  --instance_data_dir=$PROJECT_ROOT/$TRAIN_DATA_PATH \\\n",
    "  --output_dir=$PROJECT_ROOT/$LORA_PATH \\\n",
    "  --instance_prompt=\"a pkmnlora pokemon\" \\\n",
    "  --resolution=512 \\\n",
    "  --train_batch_size=1 \\\n",
    "  --gradient_accumulation_steps=1 \\\n",
    "  --checkpointing_steps=500 \\\n",
    "  --learning_rate=$LEARNING_RATE \\\n",
    "  --lr_scheduler=\"cosine\" \\\n",
    "  --lr_warmup_steps=0 \\\n",
    "  --max_train_steps=$MAX_TRAIN_STEPS \\\n",
    "  --seed=\"0\""
   ]
  },
  {
   "cell_type": "markdown",
   "id": "9aedcecb",
   "metadata": {},
   "source": [
    "# Set up SD pipeline"
   ]
  },
  {
   "cell_type": "code",
   "execution_count": 6,
   "id": "68ddbc26",
   "metadata": {},
   "outputs": [
    {
     "name": "stderr",
     "output_type": "stream",
     "text": [
      "Fetching 15 files: 100%|███████████████████████████████████████████████████████████████████████████████████████████████████| 15/15 [00:00<00:00, 136474.10it/s]\n",
      "/Users/robdewit/Documents/sd-pokemon-generator/.venv/lib/python3.11/site-packages/transformers/models/clip/feature_extraction_clip.py:28: FutureWarning: The class CLIPFeatureExtractor is deprecated and will be removed in version 5 of Transformers. Please use CLIPImageProcessor instead.\n",
      "  warnings.warn(\n"
     ]
    }
   ],
   "source": [
    "pipe = DiffusionPipeline.from_pretrained(BASE_MODEL)\n",
    "pipe.scheduler = DDIMScheduler.from_config(pipe.scheduler.config)\n",
    "\n",
    "# These settings work for Apple M1/M2 silicon\n",
    "# Docs for configuring to your hardware: https://huggingface.co/docs/diffusers/optimization/fp16\n",
    "pipe.to(\"mps\")\n",
    "\n",
    "# Recommended if your computer has < 64 GB of RAM\n",
    "pipe.enable_attention_slicing()"
   ]
  },
  {
   "cell_type": "code",
   "execution_count": 7,
   "id": "0f697a9c",
   "metadata": {},
   "outputs": [],
   "source": [
    "# Load LoRA on top of base model weights\n",
    "pipe.unet.load_attn_procs(PROJECT_ROOT/LORA_PATH)"
   ]
  },
  {
   "cell_type": "markdown",
   "id": "4d961ef0",
   "metadata": {},
   "source": [
    "# Generate images"
   ]
  },
  {
   "cell_type": "code",
   "execution_count": null,
   "id": "d3bb2581",
   "metadata": {},
   "outputs": [
    {
     "name": "stderr",
     "output_type": "stream",
     "text": [
      " 96%|████████████████████████████████████████████████████████████████████████████████████████████████████████████████████▏    | 24/25 [49:20<02:25, 145.17s/it]"
     ]
    }
   ],
   "source": [
    "generator = torch.Generator().manual_seed(SEED)\n",
    "\n",
    "outputs = pipe(prompt=[PROMPT] * BATCH_SIZE\n",
    "             , negative_prompt=[NEGATIVE_PROMPT] * BATCH_SIZE\n",
    "             , generator=generator\n",
    "             , num_inference_steps=NUM_INFERENCE_STEPS)"
   ]
  },
  {
   "cell_type": "markdown",
   "id": "e6ad37af",
   "metadata": {},
   "source": [
    "# Show and save images"
   ]
  },
  {
   "cell_type": "code",
   "execution_count": null,
   "id": "f30b9ccf",
   "metadata": {},
   "outputs": [],
   "source": [
    "# Create directory and clear if it already exists\n",
    "if not os.path.exists(PROJECT_ROOT / OUTPUT_DIRECTORY):\n",
    "    os.mkdir(PROJECT_ROOT / OUTPUT_DIRECTORY)\n",
    "else:\n",
    "    shutil.rmtree(PROJECT_ROOT / OUTPUT_DIRECTORY)\n",
    "    os.mkdir(PROJECT_ROOT / OUTPUT_DIRECTORY)\n",
    "\n",
    "for i, image in enumerate(outputs.images):\n",
    "    imgplot = plt.imshow(image)\n",
    "    plt.show(image)\n",
    "    \n",
    "    image.save(f'{PROJECT_ROOT / OUTPUT_DIRECTORY}/{i}.png')"
   ]
  }
 ],
 "metadata": {
  "kernelspec": {
   "display_name": "Python 3 (ipykernel)",
   "language": "python",
   "name": "python3"
  },
  "language_info": {
   "codemirror_mode": {
    "name": "ipython",
    "version": 3
   },
   "file_extension": ".py",
   "mimetype": "text/x-python",
   "name": "python",
   "nbconvert_exporter": "python",
   "pygments_lexer": "ipython3",
   "version": "3.11.2"
  }
 },
 "nbformat": 4,
 "nbformat_minor": 5
}
